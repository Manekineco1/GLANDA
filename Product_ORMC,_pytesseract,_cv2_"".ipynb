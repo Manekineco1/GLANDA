{
  "cells": [
    {
      "cell_type": "markdown",
      "metadata": {
        "id": "view-in-github",
        "colab_type": "text"
      },
      "source": [
        "<a href=\"https://colab.research.google.com/github/Manekineco1/GLANDA/blob/main/Product_ORMC%2C_pytesseract%2C_cv2_%22%22.ipynb\" target=\"_parent\"><img src=\"https://colab.research.google.com/assets/colab-badge.svg\" alt=\"Open In Colab\"/></a>"
      ]
    },
    {
      "cell_type": "markdown",
      "source": [
        "# Разработка решения по распознаванию донорских справок для Donorsearch, команда 10, \"Это для справки\""
      ],
      "metadata": {
        "id": "cSfYN3mFl-cE"
      }
    },
    {
      "cell_type": "markdown",
      "source": [
        "# Написание функций распознавания и загрузки документов"
      ],
      "metadata": {
        "id": "m0keAeA3R6pk"
      }
    },
    {
      "cell_type": "markdown",
      "source": [
        "Импортируем все необходимые библиотеки"
      ],
      "metadata": {
        "id": "hEsaoBlbOl_8"
      }
    },
    {
      "cell_type": "code",
      "execution_count": null,
      "metadata": {
        "id": "vDTtjKkBltmT"
      },
      "outputs": [],
      "source": [
        "%%capture\n",
        "!sudo apt install tesseract-ocr\n",
        "!sudo apt-get install tesseract-ocr-rus\n",
        "!pip install pytesseract"
      ]
    },
    {
      "cell_type": "code",
      "execution_count": null,
      "metadata": {
        "id": "8LntgAfwl2Uw"
      },
      "outputs": [],
      "source": [
        "import os, fnmatch\n",
        "import matplotlib.pyplot as plt\n",
        "import numpy as np\n",
        "import pandas as pd\n",
        "import pytesseract\n",
        "import cv2\n",
        "import scipy\n",
        "from scipy.signal import find_peaks\n",
        "import re\n",
        "from google.colab import files"
      ]
    },
    {
      "cell_type": "markdown",
      "source": [
        "Расшифровываем аббревиатуры."
      ],
      "metadata": {
        "id": "tb7XLuL3Ot9w"
      }
    },
    {
      "cell_type": "code",
      "source": [
        "def vddon(vid):\n",
        "  if len(vid) == 0:\n",
        "    return(vid)\n",
        "  if vid[0].lower() == 'к':\n",
        "    return 'Цельная кровь'\n",
        "  if vid[0].lower() == 'п':\n",
        "    return 'Плазма'\n",
        "  if vid[0].lower() == 'ц':\n",
        "    return 'Тромбоциты'\n",
        "    return('Цельная кровь')"
      ],
      "metadata": {
        "id": "GdlU6GscMj91"
      },
      "execution_count": null,
      "outputs": []
    },
    {
      "cell_type": "markdown",
      "source": [
        "Прописываем функцию для распознавания документов компьютерным зрением."
      ],
      "metadata": {
        "id": "Jge46vC7PSTF"
      }
    },
    {
      "cell_type": "code",
      "source": [
        "class ORMC():\n",
        "    \"\"\"\n",
        "    Оптическое распознование медицинских справок\n",
        "    \"\"\"\n",
        "    def __init__(self, namefileimg):\n",
        "        self.namefileimg = namefileimg\n",
        "        self.img = cv2.imread(self.namefileimg)\n",
        "\n",
        "    def scale(self, size = 3000):\n",
        "      if self.img.shape[0] < size:\n",
        "        scale_percent = 3000 // self.img.shape[0]\n",
        "        width = int(self.img.shape[1] * scale_percent)\n",
        "        height = int(self.img.shape[0] * scale_percent)\n",
        "        img = cv2.resize(self.img, (width, height),\n",
        "                         interpolation = cv2.INTER_AREA\n",
        "                         )\n",
        "        return self.img\n",
        "\n",
        "    def predict_raw(self):\n",
        "      self.text = pytesseract.image_to_string(self.img,\n",
        "                                              lang='rus',\n",
        "                                              config='--psm 6'\n",
        "                                              )\n",
        "      return self.text\n",
        "\n",
        "\n",
        "\n",
        "    def predict_data(self):\n",
        "        ptrn1 = r'([0-9]{2}[.| ][0-9]{2}[.| ][0-9]{4})|([0-9]{8})'\n",
        "        ptrn2 = '[^0-9-а-яА-Я]+'\n",
        "        mtch = re.findall(ptrn1, self.text)\n",
        "        if mtch:\n",
        "          start = self.text.find( ''.join(mtch[0]))\n",
        "          end = self.text.rfind( ''.join(mtch[-1]))\n",
        "          donardates =re.sub(pattern=ptrn2,\n",
        "                                  repl=' ',\n",
        "                                  string= self.text[start:end]\n",
        "                                  )\n",
        "          rzlt = []\n",
        "          str1 =  donardates.split(' ')\n",
        "\n",
        "          for i in range(len(str1)):\n",
        "            dt = []\n",
        "            if str1[i].isnumeric() and re.match(r'(20[0-2]\\d)',str1[i]):\n",
        "              dt = [f'{str1[i-2]}.{str1[i-1]}.{str1[i]}',\n",
        "                           vddon(str1[i+1])]\n",
        "\n",
        "            if str1[i].isnumeric() and len(str1[i])> 7:\n",
        "              dt = [f'{str1[i][-8:-6]}.{str1[i][-6:-4]}.{str1[i][-4:]}',\n",
        "                           vddon(str1[i+1])]\n",
        "\n",
        "            if len(dt) ==  0 and len(str1[i]) > 8 and ('-' in  str1[i]):\n",
        "              dt = [f'{str1[i][-9:-7]}.{str1[i][-7:-5]}.{str1[i][-4:]}',vddon(str1[i+1])]\n",
        "\n",
        "            if len(dt) > 0:\n",
        "              if len(dt[0]) > 10:\n",
        "                dt[0] = f'{dt[0][-9:-7]}.{dt[0][-7:-5]}.{dt[0][-4:]}'\n",
        "              rzlt.append(dt)\n",
        "\n",
        "          self.donardates = pd.DataFrame(rzlt, columns = ['Дата донации', 'Класс крови'])\n",
        "          self.donardates['Тип донации'] = 'Безвозмездно'\n",
        "          return  self.donardates\n",
        "        return None\n",
        "\n",
        "\n",
        "    def area(self, part = None):\n",
        "      img = self.img\n",
        "      if part == 'bottom':\n",
        "        #нижняя часть дока\n",
        "        img = img[img.shape[0]//2:img.shape[0], 0:img.shape[1]]\n",
        "      if part == 'top':\n",
        "        #верхняя часть дока\n",
        "        img = img[img.shape[0]//2:img.shape[0], 0:img.shape[1]]\n",
        "      self.img = img\n",
        "      return self.img\n",
        "\n",
        "    def drop_lines(self):\n",
        "      \"\"\"удаляет линии таблицы\"\"\"\n",
        "      gray = cv2.cvtColor(self.img, cv2.COLOR_BGR2GRAY)\n",
        "      thresh = cv2.threshold(gray,\n",
        "                             0, 255,\n",
        "                             cv2.THRESH_BINARY_INV + cv2.THRESH_OTSU)[1]\n",
        "      # Repair horizontal table lines\n",
        "      kernel = cv2.getStructuringElement(cv2.MORPH_RECT, (2,1))\n",
        "      thresh = cv2.morphologyEx(thresh, cv2.MORPH_CLOSE, kernel, iterations=1)\n",
        "      # Remove horizontal lines\n",
        "      horizontal_kernel = cv2.getStructuringElement(cv2.MORPH_RECT, (55,2))\n",
        "      detect_horizontal = cv2.morphologyEx(thresh,\n",
        "                                           cv2.MORPH_OPEN,\n",
        "                                           horizontal_kernel,\n",
        "                                           iterations=5\n",
        "                                           )\n",
        "      cnts = cv2.findContours(detect_horizontal,\n",
        "                              cv2.RETR_EXTERNAL,\n",
        "                              cv2.CHAIN_APPROX_SIMPLE\n",
        "                              )\n",
        "      cnts = cnts[0] if len(cnts) == 2 else cnts[1]\n",
        "      for c in cnts:\n",
        "          cv2.drawContours(self.img, [c], -1, (255,255,255), 9)\n",
        "      # Remove vertical lines\n",
        "      vertical_kernel = cv2.getStructuringElement(cv2.MORPH_RECT, (2,55))\n",
        "      detect_vertical = cv2.morphologyEx(thresh,\n",
        "                                         cv2.MORPH_OPEN,\n",
        "                                         vertical_kernel,\n",
        "                                         iterations=2)\n",
        "      cnts = cv2.findContours(detect_vertical,\n",
        "                              cv2.RETR_EXTERNAL,\n",
        "                              cv2.CHAIN_APPROX_SIMPLE)\n",
        "      cnts = cnts[0] if len(cnts) == 2 else cnts[1]\n",
        "      for c in cnts:\n",
        "          cv2.drawContours(self.img, [c], -1, (255,255,255), 9)\n",
        "      return self.img\n",
        "\n",
        "    def show(self, figsize=(10,14)):\n",
        "      \"\"\"показывает изображение сканированого документа \"\"\"\n",
        "      plt.figure(figsize=figsize)\n",
        "      plt.imshow(self.img)\n",
        "      plt.axis('off')\n",
        "      plt.show()\n",
        "\n",
        "    def fit(self):\n",
        "      self.area('bottom'),\n",
        "      self.drop_lines(),\n",
        "      self.predict_raw(),\n",
        "      df = self.predict_data()\n",
        "      return df"
      ],
      "metadata": {
        "id": "Z20tcmze46iz"
      },
      "execution_count": null,
      "outputs": []
    },
    {
      "cell_type": "markdown",
      "source": [
        "Прописываем функцию загрузки файлов"
      ],
      "metadata": {
        "id": "nxcVtx9VP6GE"
      }
    },
    {
      "cell_type": "code",
      "source": [
        "def load():\n",
        "  uploaded = files.upload()\n",
        "  filename = next(iter(uploaded))\n",
        "  return filename"
      ],
      "metadata": {
        "id": "viZUtOXljpwh"
      },
      "execution_count": null,
      "outputs": []
    },
    {
      "cell_type": "markdown",
      "source": [
        "Выводим результат загрузки"
      ],
      "metadata": {
        "id": "tI9QI7hBQEHI"
      }
    },
    {
      "cell_type": "code",
      "source": [
        "if __name__ == \"__main__\":\n",
        "  filename = load()\n",
        "  img = ORMC(filename)\n",
        "  rezult = img.fit()\n",
        "  print(rezult)"
      ],
      "metadata": {
        "id": "KfE8V3ybk-OX",
        "colab": {
          "base_uri": "https://localhost:8080/",
          "height": 737
        },
        "outputId": "88dd9a52-8e2a-4aa4-c835-477e36b53691"
      },
      "execution_count": null,
      "outputs": [
        {
          "output_type": "display_data",
          "data": {
            "text/plain": [
              "<IPython.core.display.HTML object>"
            ],
            "text/html": [
              "\n",
              "     <input type=\"file\" id=\"files-0dd63b36-975e-4150-b866-7da89661953d\" name=\"files[]\" multiple disabled\n",
              "        style=\"border:none\" />\n",
              "     <output id=\"result-0dd63b36-975e-4150-b866-7da89661953d\">\n",
              "      Upload widget is only available when the cell has been executed in the\n",
              "      current browser session. Please rerun this cell to enable.\n",
              "      </output>\n",
              "      <script>// Copyright 2017 Google LLC\n",
              "//\n",
              "// Licensed under the Apache License, Version 2.0 (the \"License\");\n",
              "// you may not use this file except in compliance with the License.\n",
              "// You may obtain a copy of the License at\n",
              "//\n",
              "//      http://www.apache.org/licenses/LICENSE-2.0\n",
              "//\n",
              "// Unless required by applicable law or agreed to in writing, software\n",
              "// distributed under the License is distributed on an \"AS IS\" BASIS,\n",
              "// WITHOUT WARRANTIES OR CONDITIONS OF ANY KIND, either express or implied.\n",
              "// See the License for the specific language governing permissions and\n",
              "// limitations under the License.\n",
              "\n",
              "/**\n",
              " * @fileoverview Helpers for google.colab Python module.\n",
              " */\n",
              "(function(scope) {\n",
              "function span(text, styleAttributes = {}) {\n",
              "  const element = document.createElement('span');\n",
              "  element.textContent = text;\n",
              "  for (const key of Object.keys(styleAttributes)) {\n",
              "    element.style[key] = styleAttributes[key];\n",
              "  }\n",
              "  return element;\n",
              "}\n",
              "\n",
              "// Max number of bytes which will be uploaded at a time.\n",
              "const MAX_PAYLOAD_SIZE = 100 * 1024;\n",
              "\n",
              "function _uploadFiles(inputId, outputId) {\n",
              "  const steps = uploadFilesStep(inputId, outputId);\n",
              "  const outputElement = document.getElementById(outputId);\n",
              "  // Cache steps on the outputElement to make it available for the next call\n",
              "  // to uploadFilesContinue from Python.\n",
              "  outputElement.steps = steps;\n",
              "\n",
              "  return _uploadFilesContinue(outputId);\n",
              "}\n",
              "\n",
              "// This is roughly an async generator (not supported in the browser yet),\n",
              "// where there are multiple asynchronous steps and the Python side is going\n",
              "// to poll for completion of each step.\n",
              "// This uses a Promise to block the python side on completion of each step,\n",
              "// then passes the result of the previous step as the input to the next step.\n",
              "function _uploadFilesContinue(outputId) {\n",
              "  const outputElement = document.getElementById(outputId);\n",
              "  const steps = outputElement.steps;\n",
              "\n",
              "  const next = steps.next(outputElement.lastPromiseValue);\n",
              "  return Promise.resolve(next.value.promise).then((value) => {\n",
              "    // Cache the last promise value to make it available to the next\n",
              "    // step of the generator.\n",
              "    outputElement.lastPromiseValue = value;\n",
              "    return next.value.response;\n",
              "  });\n",
              "}\n",
              "\n",
              "/**\n",
              " * Generator function which is called between each async step of the upload\n",
              " * process.\n",
              " * @param {string} inputId Element ID of the input file picker element.\n",
              " * @param {string} outputId Element ID of the output display.\n",
              " * @return {!Iterable<!Object>} Iterable of next steps.\n",
              " */\n",
              "function* uploadFilesStep(inputId, outputId) {\n",
              "  const inputElement = document.getElementById(inputId);\n",
              "  inputElement.disabled = false;\n",
              "\n",
              "  const outputElement = document.getElementById(outputId);\n",
              "  outputElement.innerHTML = '';\n",
              "\n",
              "  const pickedPromise = new Promise((resolve) => {\n",
              "    inputElement.addEventListener('change', (e) => {\n",
              "      resolve(e.target.files);\n",
              "    });\n",
              "  });\n",
              "\n",
              "  const cancel = document.createElement('button');\n",
              "  inputElement.parentElement.appendChild(cancel);\n",
              "  cancel.textContent = 'Cancel upload';\n",
              "  const cancelPromise = new Promise((resolve) => {\n",
              "    cancel.onclick = () => {\n",
              "      resolve(null);\n",
              "    };\n",
              "  });\n",
              "\n",
              "  // Wait for the user to pick the files.\n",
              "  const files = yield {\n",
              "    promise: Promise.race([pickedPromise, cancelPromise]),\n",
              "    response: {\n",
              "      action: 'starting',\n",
              "    }\n",
              "  };\n",
              "\n",
              "  cancel.remove();\n",
              "\n",
              "  // Disable the input element since further picks are not allowed.\n",
              "  inputElement.disabled = true;\n",
              "\n",
              "  if (!files) {\n",
              "    return {\n",
              "      response: {\n",
              "        action: 'complete',\n",
              "      }\n",
              "    };\n",
              "  }\n",
              "\n",
              "  for (const file of files) {\n",
              "    const li = document.createElement('li');\n",
              "    li.append(span(file.name, {fontWeight: 'bold'}));\n",
              "    li.append(span(\n",
              "        `(${file.type || 'n/a'}) - ${file.size} bytes, ` +\n",
              "        `last modified: ${\n",
              "            file.lastModifiedDate ? file.lastModifiedDate.toLocaleDateString() :\n",
              "                                    'n/a'} - `));\n",
              "    const percent = span('0% done');\n",
              "    li.appendChild(percent);\n",
              "\n",
              "    outputElement.appendChild(li);\n",
              "\n",
              "    const fileDataPromise = new Promise((resolve) => {\n",
              "      const reader = new FileReader();\n",
              "      reader.onload = (e) => {\n",
              "        resolve(e.target.result);\n",
              "      };\n",
              "      reader.readAsArrayBuffer(file);\n",
              "    });\n",
              "    // Wait for the data to be ready.\n",
              "    let fileData = yield {\n",
              "      promise: fileDataPromise,\n",
              "      response: {\n",
              "        action: 'continue',\n",
              "      }\n",
              "    };\n",
              "\n",
              "    // Use a chunked sending to avoid message size limits. See b/62115660.\n",
              "    let position = 0;\n",
              "    do {\n",
              "      const length = Math.min(fileData.byteLength - position, MAX_PAYLOAD_SIZE);\n",
              "      const chunk = new Uint8Array(fileData, position, length);\n",
              "      position += length;\n",
              "\n",
              "      const base64 = btoa(String.fromCharCode.apply(null, chunk));\n",
              "      yield {\n",
              "        response: {\n",
              "          action: 'append',\n",
              "          file: file.name,\n",
              "          data: base64,\n",
              "        },\n",
              "      };\n",
              "\n",
              "      let percentDone = fileData.byteLength === 0 ?\n",
              "          100 :\n",
              "          Math.round((position / fileData.byteLength) * 100);\n",
              "      percent.textContent = `${percentDone}% done`;\n",
              "\n",
              "    } while (position < fileData.byteLength);\n",
              "  }\n",
              "\n",
              "  // All done.\n",
              "  yield {\n",
              "    response: {\n",
              "      action: 'complete',\n",
              "    }\n",
              "  };\n",
              "}\n",
              "\n",
              "scope.google = scope.google || {};\n",
              "scope.google.colab = scope.google.colab || {};\n",
              "scope.google.colab._files = {\n",
              "  _uploadFiles,\n",
              "  _uploadFilesContinue,\n",
              "};\n",
              "})(self);\n",
              "</script> "
            ]
          },
          "metadata": {}
        },
        {
          "output_type": "stream",
          "name": "stdout",
          "text": [
            "Saving 238716.jpg to 238716 (2).jpg\n",
            "   Дата донации    Класс крови   Тип донации\n",
            "0    29.04.2008  Цельная кровь  Безвозмездно\n",
            "1    10.08.2017  Цельная кровь  Безвозмездно\n",
            "2    20.10.2020  Цельная кровь  Безвозмездно\n",
            "3    05.10.2013  Цельная кровь  Безвозмездно\n",
            "4    16.12.2017  Цельная кровь  Безвозмездно\n",
            "5    23.12.2020  Цельная кровь  Безвозмездно\n",
            "6    27.03.2014  Цельная кровь  Безвозмездно\n",
            "7    26.04.2018  Цельная кровь  Безвозмездно\n",
            "8    17.02.2021         Плазма  Безвозмездно\n",
            "9    29.07.2015  Цельная кровь  Безвозмездно\n",
            "10   12.07.2018  Цельная кровь  Безвозмездно\n",
            "11   03.03.2021  Цельная кровь  Безвозмездно\n",
            "12   03.10.2015  Цельная кровь  Безвозмездно\n",
            "13   15.11.2018  Цельная кровь  Безвозмездно\n",
            "14   04.05.2021  Цельная кровь  Безвозмездно\n",
            "15   18.02.2016  Цельная кровь  Безвозмездно\n",
            "16   27.03.2019  Цельная кровь  Безвозмездно\n",
            "17   04.08.2021  Цельная кровь  Безвозмездно\n",
            "18   19.04.2016  Цельная кровь  Безвозмездно\n",
            "19   06.06.2019  Цельная кровь  Безвозмездно\n",
            "20   29.10.2021  Цельная кровь  Безвозмездно\n",
            "21   07.07.2016  Цельная кровь  Безвозмездно\n",
            "22   17.08.2019  Цельная кровь  Безвозмездно\n",
            "23   29.12.2021  Цельная кровь  Безвозмездно\n",
            "24   15.10.2016  Цельная кровь  Безвозмездно\n",
            "25   12.11.2019  Цельная кровь  Безвозмездно\n",
            "26   22.03.2022  Цельная кровь  Безвозмездно\n",
            "27   17.12.2016  Цельная кровь  Безвозмездно\n",
            "28   29.01.2020  Цельная кровь  Безвозмездно\n",
            "29   26.05.2022  Цельная кровь  Безвозмездно\n",
            "30   18.02.2017  Цельная кровь  Безвозмездно\n",
            "31   01.04.2020  Цельная кровь  Безвозмездно\n",
            "32   10.08.2022  Цельная кровь  Безвозмездно\n",
            "33   07.06.2017  Цельная кровь  Безвозмездно\n",
            "34   03.08.2020  Цельная кровь  Безвозмездно\n"
          ]
        }
      ]
    },
    {
      "cell_type": "markdown",
      "source": [
        "Промежуточный вывод:\n",
        "- Нам в работу переданы 16 файлов в формате jpg, в которых нам нужно распознать данные в трех колонках - 'Дата донации', 'Класс крови',  'Тип донации'.\n",
        "- Нами была написана функция по распознаванию донорских справок в формате jpg с помощью библиотеки pytesseract\n",
        "- Мы загрузили необходимые файлы через гугл-диск\n",
        "\n"
      ],
      "metadata": {
        "id": "HlzIf3q5iLbH"
      }
    },
    {
      "cell_type": "markdown",
      "source": [
        "##Проверка"
      ],
      "metadata": {
        "id": "Hi9X-lky6CS-"
      }
    },
    {
      "cell_type": "markdown",
      "source": [
        "Подключаем гугл-диск"
      ],
      "metadata": {
        "id": "ra_XNCCLSkcJ"
      }
    },
    {
      "cell_type": "code",
      "source": [
        "from google.colab import drive\n",
        "drive.mount('/content/drive', force_remount=True)"
      ],
      "metadata": {
        "id": "6A5XS-L1o0ew",
        "colab": {
          "base_uri": "https://localhost:8080/"
        },
        "outputId": "61b4035d-b1cd-4159-8b21-158e2b944e99"
      },
      "execution_count": null,
      "outputs": [
        {
          "output_type": "stream",
          "name": "stdout",
          "text": [
            "Mounted at /content/drive\n"
          ]
        }
      ]
    },
    {
      "cell_type": "markdown",
      "source": [
        "Указываем путь к файлам"
      ],
      "metadata": {
        "id": "g_Xvap4wSoZ6"
      }
    },
    {
      "cell_type": "code",
      "source": [
        "PATH = '/content/drive/MyDrive/Colab Notebooks/datasets/405/405'\n",
        "content = os.listdir(PATH)"
      ],
      "metadata": {
        "id": "y_AJ7ER96HhG"
      },
      "execution_count": null,
      "outputs": []
    },
    {
      "cell_type": "markdown",
      "source": [
        "Указываем, какие файлы подтягивать из директоии"
      ],
      "metadata": {
        "id": "8JeV3NcrSrGq"
      }
    },
    {
      "cell_type": "code",
      "source": [
        "pattern1 = r'([0-9]{2}[.| ][0-9]{2}[.| ][0-9]{4})|([0-9]{8})'\n",
        "imspv = []\n",
        "pattern = \"*.jpg\"\n",
        "for entry in content:\n",
        "    if fnmatch.fnmatch(entry, pattern):\n",
        "            imspv.append(entry)\n",
        "imspv"
      ],
      "metadata": {
        "colab": {
          "base_uri": "https://localhost:8080/"
        },
        "id": "cQgK5p128m3n",
        "outputId": "ec3e259d-9384-4072-e523-78d927cd253a"
      },
      "execution_count": null,
      "outputs": [
        {
          "output_type": "execute_result",
          "data": {
            "text/plain": [
              "['256838.jpg',\n",
              " '240493.jpg',\n",
              " '245365 .jpg',\n",
              " '204119 .jpg',\n",
              " '228963 .jpg',\n",
              " '254586 .jpg',\n",
              " '231820 .jpg',\n",
              " '236000 .jpg',\n",
              " '227414.jpg',\n",
              " '213950.jpg',\n",
              " '256578 .jpg',\n",
              " '225629 .jpg',\n",
              " '141899 .jpg',\n",
              " '243478 .jpg',\n",
              " '238716.jpg',\n",
              " '233749 .jpg']"
            ]
          },
          "metadata": {},
          "execution_count": 42
        }
      ]
    },
    {
      "cell_type": "markdown",
      "source": [
        "Применяем метод распознавания к списку файлов и создаем новый экземпляр класса."
      ],
      "metadata": {
        "id": "iGl5H6MjUXaZ"
      }
    },
    {
      "cell_type": "code",
      "source": [
        "rzltdf = {}\n",
        "for f in imspv:\n",
        "  img = ORMC(f'{PATH}/{f}')\n",
        "  rzltdf[f[:6]] = img.fit()"
      ],
      "metadata": {
        "id": "dysrzT05831P"
      },
      "execution_count": null,
      "outputs": []
    },
    {
      "cell_type": "markdown",
      "source": [
        "Выводим результат распознавания"
      ],
      "metadata": {
        "id": "0gADKup8lXYF"
      }
    },
    {
      "cell_type": "code",
      "source": [
        "for img in rzltdf:\n",
        "  print()\n",
        "  print(\"\\033[1m\" +img+ \"\\033[0m\")\n",
        "  print(rzltdf[img])\n",
        "  print('#'*50)"
      ],
      "metadata": {
        "colab": {
          "base_uri": "https://localhost:8080/"
        },
        "id": "tjMILxS89BlP",
        "outputId": "3eaa6870-1194-4588-8dac-ebed472c0788"
      },
      "execution_count": null,
      "outputs": [
        {
          "output_type": "stream",
          "name": "stdout",
          "text": [
            "\n",
            "\u001b[1m256838\u001b[0m\n",
            "  Дата донации    Класс крови   Тип донации\n",
            "0   27.04.2022  Цельная кровь  Безвозмездно\n",
            "1   25.07.2022  Цельная кровь  Безвозмездно\n",
            "2   03.09.2020  Цельная кровь  Безвозмездно\n",
            "3   29.09.2022           None  Безвозмездно\n",
            "4   08.07.2021  Цельная кровь  Безвозмездно\n",
            "##################################################\n",
            "\n",
            "\u001b[1m240493\u001b[0m\n",
            "None\n",
            "##################################################\n",
            "\n",
            "\u001b[1m245365\u001b[0m\n",
            "   Дата донации    Класс крови   Тип донации\n",
            "0    14.01.2009  Цельная кровь  Безвозмездно\n",
            "1    16.06.2017  Цельная кровь  Безвозмездно\n",
            "2    20.04.2019  Цельная кровь  Безвозмездно\n",
            "3    14.07.2009  Цельная кровь  Безвозмездно\n",
            "4    28.08.2017  Цельная кровь  Безвозмездно\n",
            "5    17.08.2019  Цельная кровь  Безвозмездно\n",
            "6    25.01.2010  Цельная кровь  Безвозмездно\n",
            "7    03.11.2017  Цельная кровь  Безвозмездно\n",
            "8    22.03.2021  Цельная кровь  Безвозмездно\n",
            "9    07.02.2011  Цельная кровь  Безвозмездно\n",
            "10   27.01.2018  Цельная кровь  Безвозмездно\n",
            "11   01.06.2021  Цельная кровь  Безвозмездно\n",
            "12   08.08.2011  Цельная кровь  Безвозмездно\n",
            "13   17.03.2018         Плазма  Безвозмездно\n",
            "14   23.08.2021  Цельная кровь  Безвозмездно\n",
            "15   29.02.2012         Плазма  Безвозмездно\n",
            "16   19.04.2018         Плазма  Безвозмездно\n",
            "17   26.11.2021  Цельная кровь  Безвозмездно\n",
            "18   21.11.2016     Тромбоциты  Безвозмездно\n",
            "19   24.05.2018  Цельная кровь  Безвозмездно\n",
            "20   27.01.2022  Цельная кровь  Безвозмездно\n",
            "21   23.12.2016         Плазма  Безвозмездно\n",
            "22   16.07.2018         Плазма  Безвозмездно\n",
            "23   06.05.2022  Цельная кровь  Безвозмездно\n",
            "24   24.01.2017           None  Безвозмездно\n",
            "25   11.08.2018  Цельная кровь  Безвозмездно\n",
            "26   16.07.2022  Цельная кровь  Безвозмездно\n",
            "27   27.02.2017         Плазма  Безвозмездно\n",
            "28   24.09.2018         Плазма  Безвозмездно\n",
            "29   12.10.2022  Цельная кровь  Безвозмездно\n",
            "30   30.03.2017  Цельная кровь  Безвозмездно\n",
            "31   17.11.2018  Цельная кровь  Безвозмездно\n",
            "32   10.01.2023  Цельная кровь  Безвозмездно\n",
            "33   16.05.2017         Плазма  Безвозмездно\n",
            "34   22.01.2019           None  Безвозмездно\n",
            "35   14.03.2023  Цельная кровь  Безвозмездно\n",
            "##################################################\n",
            "\n",
            "\u001b[1m204119\u001b[0m\n",
            "  Дата донации    Класс крови   Тип донации\n",
            "0   01.04.2015  Цельная кровь  Безвозмездно\n",
            "1   11.10.2017  Цельная кровь  Безвозмездно\n",
            "2   16.10.2018  Цельная кровь  Безвозмездно\n",
            "3   27.07.2017  Цельная кровь  Безвозмездно\n",
            "##################################################\n",
            "\n",
            "\u001b[1m228963\u001b[0m\n",
            "None\n",
            "##################################################\n",
            "\n",
            "\u001b[1m254586\u001b[0m\n",
            "  Дата донации    Класс крови   Тип донации\n",
            "0   16.09.2020  Цельная кровь  Безвозмездно\n",
            "1   19.01.2002           None  Безвозмездно\n",
            "2   74.9-.0201  Цельная кровь  Безвозмездно\n",
            "##################################################\n",
            "\n",
            "\u001b[1m231820\u001b[0m\n",
            "   Дата донации    Класс крови   Тип донации\n",
            "0    14.02.2006           None  Безвозмездно\n",
            "1    14.02.2006  Цельная кровь  Безвозмездно\n",
            "2    15.07.2016  Цельная кровь  Безвозмездно\n",
            "3    04.08.2018  Цельная кровь  Безвозмездно\n",
            "4    11.06.2014  Цельная кровь  Безвозмездно\n",
            "5    11.10.2016  Цельная кровь  Безвозмездно\n",
            "6    26.12.2018  Цельная кровь  Безвозмездно\n",
            "7    30.10.2014  Цельная кровь  Безвозмездно\n",
            "8    21.12.2016  Цельная кровь  Безвозмездно\n",
            "9    29.03.2019  Цельная кровь  Безвозмездно\n",
            "10   13.08.2015  Цельная кровь  Безвозмездно\n",
            "11   21.06.2017  Цельная кровь  Безвозмездно\n",
            "##################################################\n",
            "\n",
            "\u001b[1m236000\u001b[0m\n",
            "  Дата донации    Класс крови   Тип донации\n",
            "0   25.11.2020           None  Безвозмездно\n",
            "1   25.11.2020  Цельная кровь  Безвозмездно\n",
            "2   09.11.2021  Цельная кровь  Безвозмездно\n",
            "##################################################\n",
            "\n",
            "\u001b[1m227414\u001b[0m\n",
            "None\n",
            "##################################################\n",
            "\n",
            "\u001b[1m213950\u001b[0m\n",
            "   Дата донации    Класс крови   Тип донации\n",
            "0    14.04.2014  Цельная кровь  Безвозмездно\n",
            "1    21.04.2020         Плазма  Безвозмездно\n",
            "2    27.07.2020  Цельная кровь  Безвозмездно\n",
            "3    30.07.2018  Цельная кровь  Безвозмездно\n",
            "4    19.11.2020  Цельная кровь  Безвозмездно\n",
            "5    05.10.2018  Цельная кровь  Безвозмездно\n",
            "6    22.01.2021  Цельная кровь  Безвозмездно\n",
            "7    05.12.2018  Цельная кровь  Безвозмездно\n",
            "8    15.09.2021  Цельная кровь  Безвозмездно\n",
            "9    06.02.2019  Цельная кровь  Безвозмездно\n",
            "10   18.11.2021  Цельная кровь  Безвозмездно\n",
            "11   11.04.2019  Цельная кровь  Безвозмездно\n",
            "12   02.02.2022  Цельная кровь  Безвозмездно\n",
            "13   05.07.2019           None  Безвозмездно\n",
            "14   04.04.2022           None  Безвозмездно\n",
            "15   10.09.2019  Цельная кровь  Безвозмездно\n",
            "16   21.07.2022  Цельная кровь  Безвозмездно\n",
            "17   22.11.2019  Цельная кровь  Безвозмездно\n",
            "18   04.10.2022           None  Безвозмездно\n",
            "19   24.01.2020  Цельная кровь  Безвозмездно\n",
            "##################################################\n",
            "\n",
            "\u001b[1m256578\u001b[0m\n",
            "None\n",
            "##################################################\n",
            "\n",
            "\u001b[1m225629\u001b[0m\n",
            "   Дата донации    Класс крови   Тип донации\n",
            "0    15.07.2004  Цельная кровь  Безвозмездно\n",
            "1    07.12.2012         Плазма  Безвозмездно\n",
            "2    04.05.2018  Цельная кровь  Безвозмездно\n",
            "3    13.01.2006  Цельная кровь  Безвозмездно\n",
            "4    20.06.2016  Цельная кровь  Безвозмездно\n",
            "5    30.07.2018  Цельная кровь  Безвозмездно\n",
            "6    26.08.2016  Цельная кровь  Безвозмездно\n",
            "7    09.11.2018  Цельная кровь  Безвозмездно\n",
            "8    20.07.2011  Цельная кровь  Безвозмездно\n",
            "9    06.03.2017  Цельная кровь  Безвозмездно\n",
            "10   11.03.2019  Цельная кровь  Безвозмездно\n",
            "11   18.09.2012  Цельная кровь  Безвозмездно\n",
            "12   24.07.2017  Цельная кровь  Безвозмездно\n",
            "13   12.09.2022  Цельная кровь  Безвозмездно\n",
            "14   30.10.2012  Цельная кровь  Безвозмездно\n",
            "15   08.12.2017  Цельная кровь  Безвозмездно\n",
            "##################################################\n",
            "\n",
            "\u001b[1m141899\u001b[0m\n",
            "  Дата донации Класс крови   Тип донации\n",
            "0   65.08.2020      Плазма  Безвозмездно\n",
            "1   63.11.2521        None  Безвозмездно\n",
            "2   26.10.2680        None  Безвозмездно\n",
            "3   92.03.2022      Плазма  Безвозмездно\n",
            "##################################################\n",
            "\n",
            "\u001b[1m243478\u001b[0m\n",
            "None\n",
            "##################################################\n",
            "\n",
            "\u001b[1m238716\u001b[0m\n",
            "   Дата донации    Класс крови   Тип донации\n",
            "0    29.04.2008  Цельная кровь  Безвозмездно\n",
            "1    10.08.2017  Цельная кровь  Безвозмездно\n",
            "2    20.10.2020  Цельная кровь  Безвозмездно\n",
            "3    05.10.2013  Цельная кровь  Безвозмездно\n",
            "4    16.12.2017  Цельная кровь  Безвозмездно\n",
            "5    23.12.2020  Цельная кровь  Безвозмездно\n",
            "6    27.03.2014  Цельная кровь  Безвозмездно\n",
            "7    26.04.2018  Цельная кровь  Безвозмездно\n",
            "8    17.02.2021         Плазма  Безвозмездно\n",
            "9    29.07.2015  Цельная кровь  Безвозмездно\n",
            "10   12.07.2018  Цельная кровь  Безвозмездно\n",
            "11   03.03.2021  Цельная кровь  Безвозмездно\n",
            "12   03.10.2015  Цельная кровь  Безвозмездно\n",
            "13   15.11.2018  Цельная кровь  Безвозмездно\n",
            "14   04.05.2021  Цельная кровь  Безвозмездно\n",
            "15   18.02.2016  Цельная кровь  Безвозмездно\n",
            "16   27.03.2019  Цельная кровь  Безвозмездно\n",
            "17   04.08.2021  Цельная кровь  Безвозмездно\n",
            "18   19.04.2016  Цельная кровь  Безвозмездно\n",
            "19   06.06.2019  Цельная кровь  Безвозмездно\n",
            "20   29.10.2021  Цельная кровь  Безвозмездно\n",
            "21   07.07.2016  Цельная кровь  Безвозмездно\n",
            "22   17.08.2019  Цельная кровь  Безвозмездно\n",
            "23   29.12.2021  Цельная кровь  Безвозмездно\n",
            "24   15.10.2016  Цельная кровь  Безвозмездно\n",
            "25   12.11.2019  Цельная кровь  Безвозмездно\n",
            "26   22.03.2022  Цельная кровь  Безвозмездно\n",
            "27   17.12.2016  Цельная кровь  Безвозмездно\n",
            "28   29.01.2020  Цельная кровь  Безвозмездно\n",
            "29   26.05.2022  Цельная кровь  Безвозмездно\n",
            "30   18.02.2017  Цельная кровь  Безвозмездно\n",
            "31   01.04.2020  Цельная кровь  Безвозмездно\n",
            "32   10.08.2022  Цельная кровь  Безвозмездно\n",
            "33   07.06.2017  Цельная кровь  Безвозмездно\n",
            "34   03.08.2020  Цельная кровь  Безвозмездно\n",
            "##################################################\n",
            "\n",
            "\u001b[1m233749\u001b[0m\n",
            "   Дата донации    Класс крови   Тип донации\n",
            "0    02.03.2009           None  Безвозмездно\n",
            "1    20.04.2011  Цельная кровь  Безвозмездно\n",
            "2    20.04.2017  Цельная кровь  Безвозмездно\n",
            "3    30.01.2024  Цельная кровь  Безвозмездно\n",
            "4    13.03.2015  Цельная кровь  Безвозмездно\n",
            "5    02.08.2017  Цельная кровь  Безвозмездно\n",
            "6    30.04.2024  Цельная кровь  Безвозмездно\n",
            "7    25.09.2015  Цельная кровь  Безвозмездно\n",
            "8    06.10.2017  Цельная кровь  Безвозмездно\n",
            "9    27.08.2024  Цельная кровь  Безвозмездно\n",
            "10   06.01.2016  Цельная кровь  Безвозмездно\n",
            "11   07.12.2017  Цельная кровь  Безвозмездно\n",
            "12   08.14.2024  Цельная кровь  Безвозмездно\n",
            "13   05.06.2020  Цельная кровь  Безвозмездно\n",
            "##################################################\n"
          ]
        }
      ]
    },
    {
      "cell_type": "markdown",
      "source": [
        "Подтягиваем CSV файлы с разметкой из директории"
      ],
      "metadata": {
        "id": "knRuVUIEaS_M"
      }
    },
    {
      "cell_type": "code",
      "source": [
        "csvspv = []\n",
        "import os, fnmatch\n",
        "content = os.listdir(PATH)\n",
        "pattern = \"*.csv\"\n",
        "for entry in content:\n",
        "    if fnmatch.fnmatch(entry, pattern):\n",
        "            csvspv.append(entry)\n",
        "csvspv"
      ],
      "metadata": {
        "colab": {
          "base_uri": "https://localhost:8080/"
        },
        "id": "UdbhusEq9hL_",
        "outputId": "9990a6c6-00b4-43eb-9158-634ea736cdf6"
      },
      "execution_count": null,
      "outputs": [
        {
          "output_type": "execute_result",
          "data": {
            "text/plain": [
              "['231820.csv',\n",
              " '227414.csv',\n",
              " '245365.csv',\n",
              " '256578.csv',\n",
              " '225629.csv',\n",
              " '236000.csv',\n",
              " '213950.csv',\n",
              " '238716.csv',\n",
              " '204119.csv',\n",
              " '228963.csv',\n",
              " '233749.csv',\n",
              " '256838.csv',\n",
              " '141899.csv',\n",
              " '254586.csv',\n",
              " '243478.csv']"
            ]
          },
          "metadata": {},
          "execution_count": 45
        }
      ]
    },
    {
      "cell_type": "markdown",
      "source": [
        "Читаем CSV файлы"
      ],
      "metadata": {
        "id": "JDmKpJjVbJHG"
      }
    },
    {
      "cell_type": "code",
      "source": [
        "csvdf = {}\n",
        "for csv in csvspv:\n",
        "  csvdf[csv[:6]]=pd.read_csv(f'{PATH}/{csv}')"
      ],
      "metadata": {
        "id": "9lsMvDFx-Gx3"
      },
      "execution_count": null,
      "outputs": []
    },
    {
      "cell_type": "markdown",
      "source": [
        "Пишем функцию метрики accuracy, которая сравнивает содержимое ячеек в трех столбцах - 'Дата донации', 'Класс крови', 'Тип донации' в распознанных файлах и в файлах с разметкой . Выводим метрику для каждого файла и общую."
      ],
      "metadata": {
        "id": "BDGo5TONYIyH"
      }
    },
    {
      "cell_type": "code",
      "source": [
        "def mtrc():\n",
        "  mtrc = []\n",
        "  number_coinciden = 0\n",
        "  total_elements = 0\n",
        "  for csv in csvdf:\n",
        "    print()\n",
        "    print(\"\\033[1m\" +csv+ \"\\033[0m\")\n",
        "    if csv in rzltdf.keys() and rzltdf[csv] is not None:\n",
        "      test = set(csvdf[csv]['Дата донации'] +' '+ csvdf[csv]['Класс крови'] + ' ' + csvdf[csv]['Тип донации'] )\n",
        "      predict = set(rzltdf[csv]['Дата донации'] +' '+ rzltdf[csv]['Класс крови'] + ' ' + rzltdf[csv]['Тип донации'] )\n",
        "      total_elements +=len(test)\n",
        "      number_coinciden += len(test& predict)\n",
        "      mtrk = len(test& predict) / len(test)\n",
        "      mtrc.append(mtrk)\n",
        "      print(round(mtrk,4))\n",
        "\n",
        "  print()\n",
        "  print('Общая Метрика')\n",
        "  return round(number_coinciden/total_elements,2)\n",
        "mtrc()"
      ],
      "metadata": {
        "colab": {
          "base_uri": "https://localhost:8080/"
        },
        "id": "S4FfsQi--JIX",
        "outputId": "b21662a7-90e8-43fa-bdf9-84c307a50f98"
      },
      "execution_count": null,
      "outputs": [
        {
          "output_type": "stream",
          "name": "stdout",
          "text": [
            "\n",
            "\u001b[1m231820\u001b[0m\n",
            "0.8462\n",
            "\n",
            "\u001b[1m227414\u001b[0m\n",
            "\n",
            "\u001b[1m245365\u001b[0m\n",
            "0.9189\n",
            "\n",
            "\u001b[1m256578\u001b[0m\n",
            "\n",
            "\u001b[1m225629\u001b[0m\n",
            "0.8333\n",
            "\n",
            "\u001b[1m236000\u001b[0m\n",
            "0.4\n",
            "\n",
            "\u001b[1m213950\u001b[0m\n",
            "0.7273\n",
            "\n",
            "\u001b[1m238716\u001b[0m\n",
            "0.9722\n",
            "\n",
            "\u001b[1m204119\u001b[0m\n",
            "0.6667\n",
            "\n",
            "\u001b[1m228963\u001b[0m\n",
            "\n",
            "\u001b[1m233749\u001b[0m\n",
            "0.4286\n",
            "\n",
            "\u001b[1m256838\u001b[0m\n",
            "0.1818\n",
            "\n",
            "\u001b[1m141899\u001b[0m\n",
            "0.0\n",
            "\n",
            "\u001b[1m254586\u001b[0m\n",
            "0.0909\n",
            "\n",
            "\u001b[1m243478\u001b[0m\n",
            "\n",
            "Общая Метрика\n"
          ]
        },
        {
          "output_type": "execute_result",
          "data": {
            "text/plain": [
              "0.6"
            ]
          },
          "metadata": {},
          "execution_count": 47
        }
      ]
    },
    {
      "cell_type": "markdown",
      "source": [
        "Общий вывод:\n",
        "- Нами была проведена работа по распознаванию донорских справок в формате jpg  с помощью библиотеки pytesseract\n",
        "- Написана функция метрики accuracy, которая сравнивает содержимое ячеек в трех столбцах - 'Дата донации', 'Класс крови', 'Тип донации'.\n",
        "- Выведена метрика для каждого файла и общая.\n",
        "- Общая accuracy составила 0.6.\n",
        "- В силу того, что в нашей команде изначально было три человека, но один из участников не работал над проектом, и потом ему искали замену и только 5 июля к нам присоединился третий участник - мы не успели отладить методы предобработки изображений, поэтому убрали соотвествующий код. А так же мы не успели обернуть проект в микросервис. Просим дать нам время до 21.07.23. За это время мы сможем улучшить метрику и скорее всего успеем обернуть в микросервис."
      ],
      "metadata": {
        "id": "0d1nSANKerjn"
      }
    },
    {
      "cell_type": "code",
      "source": [],
      "metadata": {
        "id": "4N6LryAPsyvN"
      },
      "execution_count": null,
      "outputs": []
    }
  ],
  "metadata": {
    "colab": {
      "provenance": [],
      "include_colab_link": true
    },
    "kernelspec": {
      "display_name": "Python 3",
      "name": "python3"
    },
    "language_info": {
      "name": "python"
    }
  },
  "nbformat": 4,
  "nbformat_minor": 0
}